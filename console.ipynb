{
  "cells": [
    {
      "cell_type": "markdown",
      "metadata": {},
      "source": [
        "# Shockwave Traffic Jam\n",
        "\n",
        "## Brief\n",
        "L'addestramento consiste nel miglioramento dei parametri del modello a seguito di un batch di simulazioni.\n",
        "\n",
        "### Make the dataset\n",
        "Ogni dato del dataset \u00e8 ottenuto stabilendo casualmente:\n",
        "1. Lunghezza della strada\n",
        "2. Numero di veicoli\n",
        "3. Parametri per **OVM**\n",
        "4. Parametri per **FTL**\n",
        "5. Bilanciamento tra **OVM** e **FTL**\n",
        "Si crea cos\u00ec un dato senza addensamenti\n",
        "Le velocit\u00e0 sono ottenute in accordo con il modello **OVM**.\n",
        "\n",
        "### Data Augmentation\n",
        "Si aumentano il numero di dati in modo casuale proponendo una perturbazione delle velocit\u00e0 e un tempo di simulazione iniziale prima di attivare l'apprendimento.\n",
        "\n",
        "Ad ogni chiamata del training quindi ci sar\u00e0 l'aggiunta di rumore.\n",
        "\n",
        "### Training\n",
        "Si addestra la rete con due sistemi di premi:\n",
        "1. feedback ad ogni tempo $\\tau$ che suggeriscono alla rete quanto il suo attuale andamento \u00e8 gradevole (accelerazioni contenute):\n",
        "   1. Si tratta di un fine-tuning degli ultimi layer (pi\u00f9 istintivi).\n",
        "   2. Il simulatore prender\u00e0 traccia dell'accelerazione pi\u00f9 forte (in modulo).\n",
        "2. premio finale al tempo $T$ che indica alla rete lo spazio percorso complessivo:\n",
        "   1. Si aggiorna il ragionamento e la memoria della rete, si tratta di un tuning dei layer pi\u00f9 superficiali.\n",
        "   2. Il simulatore prender\u00e0 traccia dello spazio percorso totale dal veicolo autonomo."
      ]
    },
    {
      "cell_type": "markdown",
      "metadata": {},
      "source": [
        "## The model\n",
        "Il modello non ha accesso completo a tutta la strada, tuttavia pu\u00f2 ricordare quello che vede e quello che ha fatto.\n",
        "\n",
        "In questo modo in una strada lineare semplicemente il modello assocer\u00e0 ci\u00f2 che vede ad un'esperienza antecedente e anche se non \u00e8 vero che quanto far\u00e0 lo aiuter\u00e0, agir\u00e0 comunque come se fosse per il bene proprio.\n",
        "\n",
        "Per questa ragione usiamo delle RNN per l'addestramento di alto livello, semplicemente la rete memorizzer\u00e0 la qualit\u00e0 della strategia nelle RNN\n",
        "\n",
        "L'interpretazione delle strategie sar\u00e0 fatta a livelli pi\u00f9 profondi che ne stimano l'applicazione e che saranno addestrati con fine-tuning"
      ]
    },
    {
      "cell_type": "markdown",
      "metadata": {},
      "source": [
        "# Make the dataset"
      ]
    },
    {
      "cell_type": "markdown",
      "metadata": {},
      "source": [
        "Il dataset generato \u00e8 solo una radice di costruzione del vero dataset usato per l'addestramento.\n",
        "\n",
        "Generiamo quindi questa radice che prende in input:\n",
        "- range di valori per la densit\u00e0\n",
        "- range di valori per $d_0$ richiesto da OVM\n",
        "- range di valori per $\\Delta$\n",
        "\n",
        "La radice propone una distribuzione uniforme dei veicoli in uno stato stazionario."
      ]
    },
    {
      "cell_type": "code",
      "execution_count": 1,
      "metadata": {},
      "outputs": [],
      "source": [
        "# MAKE DATASET ROOT\n",
        "from source import ShockwaveTrafficJam\n",
        "import torch\n",
        "import os\n",
        "\n",
        "dataset_path = 'data/db/TRAFFIC'\n",
        "os.makedirs(dataset_path, exist_ok=True)\n",
        "\n",
        "ShockwaveTrafficJam.dataset.make_traffic(1_000_000, torch.device('cuda'), 'data/db/TRAFFIC')"
      ]
    },
    {
      "cell_type": "markdown",
      "metadata": {},
      "source": [
        "Il dataset \u00e8 quindi un tensore avente 3 colonne indicanti:\n",
        "- densit\u00e0\n",
        "- d0_OVM\n",
        "- Delta"
      ]
    },
    {
      "cell_type": "code",
      "execution_count": 2,
      "metadata": {},
      "outputs": [],
      "source": [
        "# LOAD DATASET ROOT\n",
        "from source import ShockwaveTrafficJam\n",
        "\n",
        "dataset = ShockwaveTrafficJam.dataset.Dataset(dataset_path, root=True).to(torch.device('cuda'))"
      ]
    },
    {
      "cell_type": "markdown",
      "metadata": {},
      "source": [
        "Il dataloader carica la radice e viene usato per produrre facilmente i batch.\n",
        "\n",
        "Ogni batch presenta un'informazione completa e parallelizzata:\n",
        "- posizioni dei veicoli : tensore di shape (batch_size, n_vehicles)\n",
        "- velocit\u00e0 dei veicoli : tensore di shape (batch_size, n_vehicles)\n",
        "- len_road, d0_OVM, Delta, Vmax, tau, d0_FTL, gamma, beta : tensore di shape (batch_size, 8)\n",
        "\n",
        "In particolare sar\u00e0 necessario passare al dataloader:\n",
        "- range per il numero di veicoli : usato per generare il numero di veicoli del batch\n",
        "- range per Vmax, tau, d0_FTL, gamma, beta\n",
        "  \n",
        "Sar\u00e0 inoltre aggiunto un trasformatore dei dati che funger\u00e0 da data augmentation."
      ]
    },
    {
      "cell_type": "code",
      "execution_count": 3,
      "metadata": {},
      "outputs": [],
      "source": [
        "# CREATE DATALOADER ROOT\n",
        "from source import ShockwaveTrafficJam\n",
        "\n",
        "transformer = ShockwaveTrafficJam.transforms.Compose([\n",
        "    ShockwaveTrafficJam.transforms.RandomDropout(0.1),                # 10% of the data will be dropped\n",
        "    ShockwaveTrafficJam.transforms.RandomNoise(0.1, 1.2),             # perturbation of position and speed\n",
        "    ShockwaveTrafficJam.transforms.Simulation(0.0005, 60_000),        # simulate the traffic jam (30 sec) with dt=0.0005\n",
        "])\n",
        "\n",
        "dataloader = ShockwaveTrafficJam.dataloader.DataLoader(dataset, batch_size=16_384, shuffle=True, transform=transformer, root=True).to(torch.device('cuda'))"
      ]
    },
    {
      "cell_type": "markdown",
      "metadata": {},
      "source": [
        "Uso il dataloader per creare il dataset completo che sar\u00e0 poi usato per l'addestramento"
      ]
    },
    {
      "cell_type": "code",
      "execution_count": 4,
      "metadata": {},
      "outputs": [
        {
          "data": {
            "application/vnd.jupyter.widget-view+json": {
              "model_id": "4d73525d3bc14187af749437119d866e",
              "version_major": 2,
              "version_minor": 0
            },
            "text/plain": [
              "  0%|          | 0/62 [00:00<?, ?it/s]"
            ]
          },
          "metadata": {},
          "output_type": "display_data"
        }
      ],
      "source": [
        "# make the dataset\n",
        "from tqdm.notebook import tqdm\n",
        "\n",
        "for i, sim in tqdm(enumerate(dataloader), total=len(dataloader)):\n",
        "    sim = sim.to(torch.device('cpu'))\n",
        "    sim.save(i, 'data/db/TRAFFIC')"
      ]
    },
    {
      "cell_type": "markdown",
      "metadata": {},
      "source": [
        "# Open dataset"
      ]
    },
    {
      "cell_type": "markdown",
      "metadata": {},
      "source": [
        "E' possibile aprire direttamente il nuovo dataset con tutti gli scenari costruiti.\n",
        "\n",
        "Ogni file rappresenta una parte del dataset, il dataloader carica i file in RAM e poi li smaltisce per l'addestramento.\n",
        "\n"
      ]
    },
    {
      "cell_type": "code",
      "execution_count": null,
      "metadata": {},
      "outputs": [],
      "source": [
        "# LOAD the dataset\n",
        "from source import ShockwaveTrafficJam\n",
        "\n",
        "# libero la gpu da ogni variabile di torch\n",
        "torch.cuda.empty_cache()\n",
        "\n",
        "dataset = ShockwaveTrafficJam.dataset.Dataset('data/db/TRAFFIC', root=False).to(torch.device('cuda'))\n",
        "dataloader = ShockwaveTrafficJam.dataloader.DataLoader(dataset, batch_size=256, shuffle=True).to(torch.device('cuda'))"
      ]
    },
    {
      "cell_type": "markdown",
      "metadata": {},
      "source": [
        "La rete \u00e8 definita strutturalmente come segue:\n",
        "1.  una CNN 1D a 3 canali che prende in input le differenze di velocit\u00e0, la velocit\u00e0 e la distanza\n",
        "2.  un trasformatore che recupera la serie temporale e la elabora (self attention o con RNN)???\n",
        "3.  un"
      ]
    }
  ],
  "metadata": {
    "kernelspec": {
      "display_name": ".venv",
      "language": "python",
      "name": "python3"
    },
    "language_info": {
      "codemirror_mode": {
        "name": "ipython",
        "version": 3
      },
      "file_extension": ".py",
      "mimetype": "text/x-python",
      "name": "python",
      "nbconvert_exporter": "python",
      "pygments_lexer": "ipython3",
      "version": "3.10.12"
    }
  },
  "nbformat": 4,
  "nbformat_minor": 2
}
