{
  "cells": [
    {
      "cell_type": "markdown",
      "metadata": {},
      "source": [
        "# Shockwave Traffic Jam\n",
        "\n",
        "## Brief\n",
        "L'addestramento consiste nel miglioramento dei parametri del modello a seguito di un batch di simulazioni.\n",
        "\n",
        "### Make the dataset\n",
        "Ogni dato del dataset \u00e8 ottenuto stabilendo casualmente:\n",
        "1. Lunghezza della strada\n",
        "2. Numero di veicoli\n",
        "3. Parametri per **OVM**\n",
        "4. Parametri per **FTL**\n",
        "5. Bilanciamento tra **OVM** e **FTL**\n",
        "Si crea cos\u00ec un dato senza addensamenti\n",
        "Le velocit\u00e0 sono ottenute in accordo con il modello **OVM**.\n",
        "\n",
        "### Data Augmentation\n",
        "Si aumentano il numero di dati in modo casuale proponendo una perturbazione delle velocit\u00e0 e un tempo di simulazione iniziale prima di attivare l'apprendimento.\n",
        "\n",
        "Ad ogni chiamata del training quindi ci sar\u00e0 l'aggiunta di rumore.\n",
        "\n",
        "### Training\n",
        "Si addestra la rete con due sistemi di premi:\n",
        "1. feedback ad ogni tempo $\\tau$ che suggeriscono alla rete quanto il suo attuale andamento \u00e8 gradevole (accelerazioni contenute):\n",
        "   1. Si tratta di un fine-tuning degli ultimi layer (pi\u00f9 istintivi).\n",
        "   2. Il simulatore prender\u00e0 traccia dell'accelerazione pi\u00f9 forte (in modulo).\n",
        "2. premio finale al tempo $T$ che indica alla rete lo spazio percorso complessivo:\n",
        "   1. Si aggiorna il ragionamento e la memoria della rete, si tratta di un tuning dei layer pi\u00f9 superficiali.\n",
        "   2. Il simulatore prender\u00e0 traccia dello spazio percorso totale dal veicolo autonomo."
      ]
    },
    {
      "cell_type": "markdown",
      "metadata": {},
      "source": [
        "## The model\n",
        "Il modello non ha accesso completo a tutta la strada, tuttavia pu\u00f2 ricordare quello che vede e quello che ha fatto.\n",
        "\n",
        "In questo modo in una strada lineare semplicemente il modello assocer\u00e0 ci\u00f2 che vede ad un'esperienza antecedente e anche se non \u00e8 vero che quanto far\u00e0 lo aiuter\u00e0, agir\u00e0 comunque come se fosse per il bene proprio.\n",
        "\n",
        "Per questa ragione usiamo delle RNN per l'addestramento di alto livello, semplicemente la rete memorizzer\u00e0 la qualit\u00e0 della strategia nelle RNN\n",
        "\n",
        "L'interpretazione delle strategie sar\u00e0 fatta a livelli pi\u00f9 profondi che ne stimano l'applicazione e che saranno addestrati con fine-tuning"
      ]
    },
    {
      "cell_type": "markdown",
      "metadata": {},
      "source": [
        "# Make the dataset"
      ]
    },
    {
      "cell_type": "markdown",
      "metadata": {},
      "source": [
        "Il dataset generato \u00e8 solo una radice di costruzione del vero dataset usato per l'addestramento.\n",
        "\n",
        "Generiamo quindi questa radice che prende in input:\n",
        "- range di valori per la densit\u00e0\n",
        "- range di valori per $d_0$ richiesto da OVM\n",
        "- range di valori per $\\Delta$\n",
        "\n",
        "La radice propone una distribuzione uniforme dei veicoli in uno stato stazionario.\n",
        "\n",
        "La stabilit\u00e0 dello stato stazionario in un modello **OVM** **FTL** si ha per velocit\u00e0 ideale che rispetta la seguente relazione\n",
        "\n",
        "$$\n",
        "V'(L/N) < \\frac{1}{2}\\frac{\\beta/\\tau}{1+\\beta} + \\frac{1/\\text{FTL}(d_0)^{1+\\gamma}}{1+\\beta}\\frac{1}{(L/N)^{1+\\gamma}}\n",
        "$$\n",
        "\n",
        "Il dataset viene creato affinch\u00e9 solitamente questa propriet\u00e0 non si rispetti e che quindi ci sia instabilit\u00e0, tuttavia non \u00e8 da escludere il contrario."
      ]
    },
    {
      "cell_type": "code",
      "execution_count": null,
      "metadata": {},
      "outputs": [],
      "source": [
        "# MAKE DATASET ROOT\n",
        "from source import ShockwaveTrafficJam\n",
        "import torch\n",
        "import os\n",
        "\n",
        "dataset_path = 'data/db/TRAFFIC'\n",
        "os.makedirs(dataset_path, exist_ok=True)\n",
        "\n",
        "ShockwaveTrafficJam.dataset.make_traffic(1_024, torch.device('cuda'), 'data/db/TRAFFIC')"
      ]
    },
    {
      "cell_type": "markdown",
      "metadata": {},
      "source": [
        "Il dataset \u00e8 quindi un tensore avente 3 colonne indicanti:\n",
        "- densit\u00e0\n",
        "- d0_OVM\n",
        "- Delta"
      ]
    },
    {
      "cell_type": "code",
      "execution_count": null,
      "metadata": {},
      "outputs": [],
      "source": [
        "# LOAD DATASET ROOT\n",
        "from source import ShockwaveTrafficJam\n",
        "\n",
        "dataset = ShockwaveTrafficJam.dataset.Dataset(dataset_path, root=True).to(torch.device('cuda'))"
      ]
    },
    {
      "cell_type": "markdown",
      "metadata": {},
      "source": [
        "Il dataloader carica la radice e viene usato per produrre facilmente i batch.\n",
        "\n",
        "Ogni batch presenta un'informazione completa e parallelizzata:\n",
        "- posizioni dei veicoli : tensore di shape (batch_size, n_vehicles)\n",
        "- velocit\u00e0 dei veicoli : tensore di shape (batch_size, n_vehicles)\n",
        "- len_road, d0_OVM, Delta, Vmax, tau, d0_FTL, gamma, beta : tensore di shape (batch_size, 8)\n",
        "\n",
        "In particolare sar\u00e0 necessario passare al dataloader:\n",
        "- range per il numero di veicoli : usato per generare il numero di veicoli del batch\n",
        "- range per Vmax, tau, d0_FTL, gamma, beta\n",
        "  \n",
        "Sar\u00e0 inoltre aggiunto un trasformatore dei dati che funger\u00e0 da data augmentation."
      ]
    },
    {
      "cell_type": "code",
      "execution_count": null,
      "metadata": {},
      "outputs": [],
      "source": [
        "# CREATE DATALOADER ROOT\n",
        "from source import ShockwaveTrafficJam\n",
        "\n",
        "transformer = ShockwaveTrafficJam.transforms.Compose([\n",
        "    ShockwaveTrafficJam.transforms.RandomDropout(0.1),                # 10% of the data will be dropped\n",
        "    ShockwaveTrafficJam.transforms.RandomNoise(1.0, 1.2),             # perturbation of position and speed\n",
        "    #ShockwaveTrafficJam.transforms.Simulation(1.0/24.0, 24*60),       # simulate the traffic jam (60 sec) with 24FPS\n",
        "])\n",
        "\n",
        "dataloader = ShockwaveTrafficJam.dataloader.DataLoader(dataset, batch_size=8, shuffle=True, transform=transformer, root=True).to(torch.device('cuda'))"
      ]
    },
    {
      "cell_type": "markdown",
      "metadata": {},
      "source": [
        "Visualizzo l'evoluzione dell'energia cinetica"
      ]
    },
    {
      "cell_type": "code",
      "execution_count": null,
      "metadata": {},
      "outputs": [],
      "source": [
        "# SHOW A VIDEO\n",
        "from source import ShockwaveTrafficJam\n",
        "\n",
        "sim = next(iter(dataloader))\n",
        "\n",
        "ShockwaveTrafficJam.simulator.auto_show_video(sim, 1/24, 24*60)"
      ]
    },
    {
      "cell_type": "code",
      "execution_count": null,
      "metadata": {},
      "outputs": [],
      "source": [
        "# STUDY THE ENERGY\n",
        "import pandas as pd\n",
        "\n",
        "# creo un data frame dove salvo i dati\n",
        "df = pd.DataFrame(columns=['time', 'energy', 'velocity'])\n",
        "\n",
        "sim = next(iter(dataloader))\n",
        "\n",
        "for i in range(24*60*100):\n",
        "    sim.auto_step(1/24)\n",
        "    energy = sim.energy()\n",
        "    velocity = (sim.v.mean(dim=1)/sim.Vmax.reshape(-1)).mean().item()\n",
        "    if velocity < 0:\n",
        "        pass\n",
        "    df.loc[i] = [i/30, (energy).mean().item(), velocity]\n",
        "\n",
        "df.to_csv('data/out/energy.csv', index=False)"
      ]
    },
    {
      "cell_type": "code",
      "execution_count": null,
      "metadata": {},
      "outputs": [],
      "source": [
        "sim.visual()"
      ]
    },
    {
      "cell_type": "markdown",
      "metadata": {},
      "source": [
        "Uso il dataloader per creare il dataset completo che sar\u00e0 poi usato per l'addestramento"
      ]
    },
    {
      "cell_type": "code",
      "execution_count": null,
      "metadata": {},
      "outputs": [],
      "source": [
        "# MAKE DATASET\n",
        "from tqdm.notebook import tqdm\n",
        "\n",
        "for i, sim in tqdm(enumerate(dataloader), total=len(dataloader), leave=False):\n",
        "    sim = sim.to(torch.device('cpu'))\n",
        "    sim.save('data/db/TRAFFIC')"
      ]
    },
    {
      "cell_type": "markdown",
      "metadata": {},
      "source": [
        "# Open dataset"
      ]
    },
    {
      "cell_type": "markdown",
      "metadata": {},
      "source": [
        "E' possibile aprire direttamente il nuovo dataset con tutti gli scenari costruiti.\n",
        "\n",
        "Ogni file rappresenta una parte del dataset, il dataloader carica i file in RAM e poi li smaltisce per l'addestramento.\n",
        "\n"
      ]
    },
    {
      "cell_type": "code",
      "execution_count": null,
      "metadata": {},
      "outputs": [],
      "source": [
        "# LOAD the dataset\n",
        "import torch\n",
        "from source import ShockwaveTrafficJam\n",
        "\n",
        "dataset = ShockwaveTrafficJam.dataset.Dataset('data/db/TRAFFIC', root=False)\n",
        "dataloader = ShockwaveTrafficJam.dataloader.DataLoader(dataset, batch_size=16)"
      ]
    },
    {
      "cell_type": "code",
      "execution_count": null,
      "metadata": {},
      "outputs": [],
      "source": [
        "# visualize a single data\n",
        "dataloader = iter(dataloader)\n",
        "sim = next(dataloader)\n",
        "sim.visual()"
      ]
    },
    {
      "cell_type": "markdown",
      "metadata": {},
      "source": [
        "## About the model\n",
        "\n",
        "La rete fa uso di una `CNN` applicata alle misurazioni effettuate a $30$FPS, viene fornita una serie temporale di $316$ step (circa $10$ secondi) con $2$ canali:\n",
        "- distanza relativa\n",
        "- velocit\u00e0 relativa\n",
        "\n",
        "La sequenza viene poi semplificata ottenendo $64$ sequenze a $16$ step (con un frame rate simile al tempo di reazione umano : $0.5$ secondi).\n",
        "\n",
        "Dopodich\u00e9 viene passato il risultato attraverso un `trasformatore` che ne deduce il contesto che fa uso di una maschera **look-ahead** per mantenere la progressivit\u00e0 dei dati.\n",
        "\n",
        "Infine la serie viene poi linearizzata e classificata con un `MLP`.\n",
        "\n",
        "Il modello deve prevedere la densit\u00e0 media globale dell'intero esperimento. Infatti usando la sua previsione, basata sull'esperienza di guida, si pu\u00f2 applicare il modello risolutivo.\n",
        "\n",
        "La soluzione infatti prevede che la velocit\u00e0 ideale dei veicoli sia valutata sulla densit\u00e0 media globale.\n"
      ]
    },
    {
      "cell_type": "code",
      "execution_count": null,
      "metadata": {},
      "outputs": [],
      "source": [
        "from source.AC import roboCar\n",
        "\n",
        "agent = roboCar().to(torch.device('cuda'))\n",
        "\n",
        "print(f\"Trainable parameters: {sum(p.numel() for p in agent.parameters() if p.requires_grad)}\")"
      ]
    },
    {
      "cell_type": "markdown",
      "metadata": {},
      "source": [
        "## Pre training\n",
        "\n",
        "Come detto il modello deve prevedere la densit\u00e0 media globale, per questa ragione il suo output sar\u00e0 un numero reale positivo (attivato quindi con ReLU) che indica la distanza media tra i veicoli.\n",
        "\n",
        "La rete quindi prosegue con determinati pesi per un certo lasso di tempo, al termine del quale verr\u00e0 calcolata l'energia cinetica globale.\n",
        "\n",
        "L'energia cinetica tende ad aumentare poich\u00e9 ogni veicolo prover\u00e0 "
      ]
    },
    {
      "cell_type": "code",
      "execution_count": null,
      "metadata": {},
      "outputs": [],
      "source": [
        "from source import training\n",
        "\n",
        "# estrapolo un batch dal dataloader\n",
        "training.train(\n",
        "    agent,\n",
        "    dataloader,\n",
        "    optimizer=torch.optim.Adam(agent.parameters(), lr=1e-4),\n",
        "    epochs=2,\n",
        "    time_step = 1/30,\n",
        "    steps = 3,\n",
        "    deep_steps=600,\n",
        "    with_reset=True)"
      ]
    },
    {
      "cell_type": "markdown",
      "metadata": {},
      "source": [
        "Salvo il pretraining cos\u00ec da poterlo riaprire senza perderlo"
      ]
    },
    {
      "cell_type": "code",
      "execution_count": null,
      "metadata": {},
      "outputs": [],
      "source": [
        "agent.save_weights('data/models/pre_trained.pth')"
      ]
    }
  ],
  "metadata": {
    "kernelspec": {
      "display_name": ".venv",
      "language": "python",
      "name": "python3"
    },
    "language_info": {
      "codemirror_mode": {
        "name": "ipython",
        "version": 3
      },
      "file_extension": ".py",
      "mimetype": "text/x-python",
      "name": "python",
      "nbconvert_exporter": "python",
      "pygments_lexer": "ipython3",
      "version": "3.10.12"
    }
  },
  "nbformat": 4,
  "nbformat_minor": 2
}
